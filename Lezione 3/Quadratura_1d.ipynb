{
  "nbformat": 4,
  "nbformat_minor": 0,
  "metadata": {
    "colab": {
      "provenance": []
    },
    "kernelspec": {
      "name": "python3",
      "display_name": "Python 3"
    },
    "language_info": {
      "name": "python"
    }
  },
  "cells": [
    {
      "cell_type": "code",
      "execution_count": null,
      "metadata": {
        "id": "rTwtFCuuta7J"
      },
      "outputs": [],
      "source": [
        "import numpy as np\n",
        "import matplotlib.pyplot as plt"
      ]
    },
    {
      "cell_type": "markdown",
      "source": [
        "I pesi ed i nodi riportati nel blocco di codice qui sotto, possono essere trovati in un qualunque libro di analisi numerica oppure qui https://en.wikipedia.org/wiki/Gaussian_quadrature "
      ],
      "metadata": {
        "id": "jgQ3GWfjtlFZ"
      }
    },
    {
      "cell_type": "code",
      "source": [
        "def quadratura1d(a,b,Nq,g):\n",
        "    h = b - a\n",
        "    if Nq==1:\n",
        "        X = np.array([0.])\n",
        "        W = np.array([2.])\n",
        "    elif Nq==2:\n",
        "        X = np.array([-np.sqrt(1/3),np.sqrt(1/3)])\n",
        "        W = np.array([1.,1.])\n",
        "    elif Nq==3:\n",
        "        X = np.array([-np.sqrt(3/5),0.,np.sqrt(3/5)])\n",
        "        W = np.array([5/9,8/9,5/9])\n",
        "    elif Nq==4:\n",
        "        c1 = np.sqrt(3/7-2/7*np.sqrt(6/5))\n",
        "        c2 = np.sqrt(3/7+2/7*np.sqrt(6/5))\n",
        "        w1 = (18+np.sqrt(30.))/36.\n",
        "        w2 = (18-np.sqrt(30.))/36.\n",
        "        X = np.array([-c2,-c1,c1,c2])\n",
        "        W = np.array([w2,w1,w1,w2])\n",
        "\n",
        "    #X = X.reshape(-1,1)\n",
        "    #W = W.reshape(-1,1)\n",
        "    gg = g((a+b)/2+X*h/2)\n",
        "    res = h/2*np.dot(gg,W)\n",
        "    return res"
      ],
      "metadata": {
        "id": "MDgOMPxNtfQ_"
      },
      "execution_count": null,
      "outputs": []
    },
    {
      "cell_type": "code",
      "source": [
        "a = 1.\n",
        "b = 2.\n",
        "EXACT_sol_1d = b**2-a**2\n",
        "g = lambda x: 2*x\n",
        "NqRange = np.array([1,2,3,4])\n",
        "\n",
        "for Nq in NqRange:\n",
        "    res = quadratura1d(a,b,Nq,g)\n",
        "    plt.plot(Nq,np.abs(res-EXACT_sol_1d),'*')\n",
        "    print(f\"Errore con {Nq} nodi: \",np.abs(res-EXACT_sol_1d))\n",
        "print(\"\\n\\n\")\n",
        "plt.xlabel(\"Numero di nodi di quadratura\")\n",
        "plt.ylabel(\"Paragone con la soluzione esatta $b^2-a^2$\")\n",
        "plt.title(f\"Quadratura gaussiana di $f(x)=2x$\")\n",
        "plt.show()"
      ],
      "metadata": {
        "colab": {
          "base_uri": "https://localhost:8080/",
          "height": 422
        },
        "id": "CZ2VhyO8vBSg",
        "outputId": "c88c2b73-f8a7-4cbf-fb27-d807922b9b96"
      },
      "execution_count": null,
      "outputs": [
        {
          "output_type": "stream",
          "name": "stdout",
          "text": [
            "Errore con 1 nodi:  0.0\n",
            "Errore con 2 nodi:  0.0\n",
            "Errore con 3 nodi:  0.0\n",
            "Errore con 4 nodi:  0.0\n",
            "\n",
            "\n",
            "\n"
          ]
        },
        {
          "output_type": "display_data",
          "data": {
            "text/plain": [
              "<Figure size 432x288 with 1 Axes>"
            ],
            "image/png": "[encoded data removed]"
          },
          "metadata": {
            "needs_background": "light"
          }
        }
      ]
    },
    {
      "cell_type": "code",
      "source": [
        "a = 1.\n",
        "b = 2.\n",
        "EXACT_sol_1d = np.exp(b)-np.exp(a)\n",
        "g = lambda x: np.exp(x)\n",
        "NqRange = np.array([1,2,3,4])\n",
        "\n",
        "for Nq in NqRange:\n",
        "    res = quadratura1d(a,b,Nq,g)\n",
        "    plt.plot(Nq,np.abs(res-EXACT_sol_1d),'*')\n",
        "    print(f\"Errore con {Nq} nodi: \",np.abs(res-EXACT_sol_1d))\n",
        "print(\"\\n\\n\")\n",
        "plt.xlabel(\"Numero di nodi di quadratura\")\n",
        "plt.ylabel(\"Paragone con la soluzione esatta $e^b-e^a$\")\n",
        "plt.title(f\"Quadratura gaussiana di $f(x)=e^x$\")\n",
        "plt.show()"
      ],
      "metadata": {
        "colab": {
          "base_uri": "https://localhost:8080/",
          "height": 422
        },
        "id": "UrdVdsHJt3Ze",
        "outputId": "e95756ba-8706-46b7-e88c-3b9b54764241"
      },
      "execution_count": null,
      "outputs": [
        {
          "output_type": "stream",
          "name": "stdout",
          "text": [
            "Errore con 1 nodi:  0.18908520013354124\n",
            "Errore con 2 nodi:  0.0010477629581968628\n",
            "Errore con 3 nodi:  2.2400994224014426e-06\n",
            "Errore con 4 nodi:  2.53606824429653e-09\n",
            "\n",
            "\n",
            "\n"
          ]
        },
        {
          "output_type": "display_data",
          "data": {
            "text/plain": [
              "<Figure size 432x288 with 1 Axes>"
            ],
            "image/png": "[encoded data removed]"
          },
          "metadata": {
            "needs_background": "light"
          }
        }
      ]
    }
  ]
}